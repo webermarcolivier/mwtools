{
 "cells": [
  {
   "cell_type": "code",
   "execution_count": 16,
   "metadata": {},
   "outputs": [
    {
     "data": {
      "text/plain": [
       "[(0.383662065772549, 0.5101834172862746, 0.9178306732313726),\n",
       " (0.5543118699137254, 0.6900970112156862, 0.9955155482352941),\n",
       " (0.724041371882353, 0.8149103926470588, 0.9756509706470589),\n",
       " (0.8674276350862745, 0.864376599772549, 0.8626024620196079),\n",
       " (0.9595176584705882, 0.7669728545098039, 0.6741447150392157),\n",
       " (0.9566532109764706, 0.598033822717647, 0.4773022923529412),\n",
       " (0.8653913329372549, 0.3711276720470588, 0.2957689564156863)]"
      ]
     },
     "execution_count": 16,
     "metadata": {},
     "output_type": "execute_result"
    },
    {
     "data": {
      "image/png": "[encoded data removed]",
      "text/plain": [
       "<matplotlib.figure.Figure at 0x7fa03129bba8>"
      ]
     },
     "metadata": {},
     "output_type": "display_data"
    }
   ],
   "source": [
    "%matplotlib inline\n",
    "from mwTools.plot import background_gradient\n",
    "import numpy as np\n",
    "import seaborn as sns\n",
    "\n",
    "gradientList = background_gradient(np.arange(0, 1, 0.1), cmap='PuBu', vmin=0, vmax=1)\n",
    "\n",
    "palette = sns.color_palette(\"coolwarm\", 7)\n",
    "\n",
    "sns.palplot(palette)\n",
    "\n",
    "palette"
   ]
  }
 ],
 "metadata": {
  "kernelspec": {
   "display_name": "Python 3",
   "language": "python",
   "name": "python3"
  },
  "language_info": {
   "codemirror_mode": {
    "name": "ipython",
    "version": 3
   },
   "file_extension": ".py",
   "mimetype": "text/x-python",
   "name": "python",
   "nbconvert_exporter": "python",
   "pygments_lexer": "ipython3",
   "version": "3.5.2"
  },
  "toc": {
   "colors": {
    "hover_highlight": "#DAA520",
    "navigate_num": "#000000",
    "navigate_text": "#333333",
    "running_highlight": "#FF0000",
    "selected_highlight": "#FFD700",
    "sidebar_border": "#EEEEEE",
    "wrapper_background": "#FFFFFF"
   },
   "moveMenuLeft": true,
   "nav_menu": {
    "height": "12px",
    "width": "252px"
   },
   "navigate_menu": true,
   "number_sections": true,
   "sideBar": true,
   "threshold": 4,
   "toc_cell": false,
   "toc_section_display": "block",
   "toc_window_display": false,
   "widenNotebook": false
  }
 },
 "nbformat": 4,
 "nbformat_minor": 2
}
