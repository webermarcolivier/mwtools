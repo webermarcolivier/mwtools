{
 "cells": [
  {
   "cell_type": "code",
   "execution_count": 20,
   "metadata": {},
   "outputs": [
    {
     "data": {
      "text/plain": [
       "(array([  5.,   1.,   3.,  21.,   7.,   6.,  60.,  38.,  28., 547.]),\n",
       " array([-9.30000019, -8.37000017, -7.44000015, -6.51000013, -5.58000011,\n",
       "        -4.6500001 , -3.72000008, -2.79000006, -1.86000004, -0.93000002,\n",
       "         0.        ]),\n",
       " <a list of 10 Patch objects>)"
      ]
     },
     "execution_count": 20,
     "metadata": {},
     "output_type": "execute_result"
    },
    {
     "data": {
      "image/png": "[encoded data removed]",
      "text/plain": [
       "<Figure size 432x288 with 1 Axes>"
      ]
     },
     "metadata": {},
     "output_type": "display_data"
    }
   ],
   "source": [
    "motif = 'AGGAGG'\n",
    "energyFoldList = compute_hybridization_energy_along_seq(motif, seq, verbose=1)\n",
    "energyList = [e for fold, e in energyFoldList]\n",
    "plt.hist(energyList)"
   ]
  },
  {
   "cell_type": "code",
   "execution_count": 33,
   "metadata": {},
   "outputs": [
    {
     "data": {
      "text/plain": [
       "array([[238.        ,  -5.9000001 ],\n",
       "       [239.        ,  -6.30000019],\n",
       "       [240.        ,  -5.9000001 ],\n",
       "       [424.        ,  -4.5       ],\n",
       "       [425.        ,  -5.5999999 ],\n",
       "       [426.        ,  -6.        ],\n",
       "       [427.        ,  -8.60000038],\n",
       "       [428.        ,  -9.30000019],\n",
       "       [429.        ,  -6.        ],\n",
       "       [430.        ,  -6.        ],\n",
       "       [431.        ,  -5.5999999 ],\n",
       "       [562.        ,  -5.19999981],\n",
       "       [563.        ,  -8.19999981],\n",
       "       [564.        ,  -9.30000019],\n",
       "       [565.        ,  -6.        ],\n",
       "       [566.        ,  -6.        ],\n",
       "       [567.        ,  -5.5999999 ],\n",
       "       [582.        ,  -5.9000001 ],\n",
       "       [583.        ,  -8.60000038],\n",
       "       [584.        ,  -8.80000019],\n",
       "       [585.        ,  -5.0999999 ],\n",
       "       [587.        ,  -4.4000001 ],\n",
       "       [589.        ,  -5.80000019],\n",
       "       [590.        ,  -6.80000019],\n",
       "       [591.        ,  -6.4000001 ],\n",
       "       [592.        ,  -4.69999981],\n",
       "       [593.        ,  -5.0999999 ],\n",
       "       [594.        ,  -4.9000001 ],\n",
       "       [648.        ,  -5.4000001 ],\n",
       "       [649.        ,  -6.5999999 ],\n",
       "       [650.        ,  -6.4000001 ],\n",
       "       [679.        ,  -4.5       ],\n",
       "       [680.        ,  -5.80000019],\n",
       "       [681.        ,  -5.80000019],\n",
       "       [682.        ,  -5.9000001 ],\n",
       "       [683.        ,  -6.80000019],\n",
       "       [684.        ,  -6.4000001 ],\n",
       "       [697.        ,  -5.19999981],\n",
       "       [698.        ,  -5.5999999 ],\n",
       "       [699.        ,  -5.5999999 ]])"
      ]
     },
     "execution_count": 33,
     "metadata": {},
     "output_type": "execute_result"
    }
   ],
   "source": [
    "energyThres = -4.\n",
    "energy = np.array(energyList)\n",
    "energy < energyThres\n",
    "\n",
    "energyLow = np.array([(i, x) for i, x in enumerate(energy) if x < energyThres])\n",
    "energyLow"
   ]
  },
  {
   "cell_type": "code",
   "execution_count": 42,
   "metadata": {},
   "outputs": [
    {
     "name": "stdout",
     "output_type": "stream",
     "text": [
      "cluster 0: [424 425 426 427 428 429 430 431] centroid: 428\n",
      "cluster 1: [582 583 584 585 587] centroid: 584\n",
      "cluster 2: [589 590 591 592 593 594] centroid: 592\n",
      "cluster 3: [562 563 564 565 566 567] centroid: 565\n",
      "cluster 4: [679 680 681 682 683 684] centroid: 682\n",
      "cluster 5: [238 239 240] centroid: 239\n",
      "cluster 6: [648 649 650] centroid: 649\n",
      "cluster 7: [697 698 699] centroid: 698\n",
      "len(x): 40 len(centroidList) 8\n"
     ]
    },
    {
     "data": {
      "text/plain": [
       "array([239, 428, 565, 584, 592, 649, 682, 698])"
      ]
     },
     "execution_count": 42,
     "metadata": {},
     "output_type": "execute_result"
    }
   ],
   "source": [
    "energyLowFiltered = clustering_1D_meanshift(x=energyLow[:, 0], bandwidth=5, verbose=2)\n",
    "energyLowFiltered"
   ]
  },
  {
   "cell_type": "code",
   "execution_count": null,
   "metadata": {},
   "outputs": [],
   "source": [
    "def find_local_extrema(arr, verbose=1):\n",
    "    \n",
    "    energyNonZeroPos = [(i, x) for i, x in enumerate(energyArr) if x < 0]\n",
    "    energyNonZero = [x for i, x in energyNonZeroPos]\n",
    "    energyNonZeroIndices = [i for i, x in energyNonZeroPos]\n",
    "    energyLocalMinima = argrelextrema(np.array(energyNonZero), np.less_equal)[0]\n",
    "    energyMinimaIndices = [energyNonZeroIndices[i] for i in list(energyLocalMinima)]\n",
    "    energyMinima = [(i, energyArr[i]) for i in energyMinimaIndices]\n",
    "    return energyMinima"
   ]
  },
  {
   "cell_type": "code",
   "execution_count": 2,
   "metadata": {},
   "outputs": [],
   "source": [
    "def search_triplet_motif_tags(fseq, triplet, showTripletScale=False):\n",
    "    \n",
    "    seq = fseq.seq\n",
    "    tripletMatch = find_triplet_in_sequence_in_frames(seq, triplet)    \n",
    "    \n",
    "    tagList = [\n",
    "        {'start': match['nucleotide_pos'], 'end':match['nucleotide_pos'] + 3,\n",
    "         'class':'frame{:d}'.format(frame)}\n",
    "        for frame, tripletList in enumerate(tripletMatch)\n",
    "        for match in tripletList]\n",
    "\n",
    "    return tagList\n",
    "\n",
    "\n",
    "def search_hybridization_energy_motif_tags(fseq, motif, motifName='ShineDalgarno', thresh1=-2, thresh2=-4):\n",
    "    \n",
    "    seq = fseq.seq\n",
    "    motif = SDCore[0]\n",
    "    energyMinima = find_motif_positions_with_low_energy(seq, motif, verbose=1)\n",
    "    motifList1 = [i for i, e in energyMinima if thresh2 < e <= thresh1]\n",
    "    motifList2 = [i for i, e in energyMinima if e <= thresh2]\n",
    "#     print(\"motifList1\", motifList1)\n",
    "#     print(\"motifList2\", motifList2)\n",
    "    tagList = []\n",
    "    if len(motifList1) > 0:\n",
    "        tagList += [\n",
    "            {'start':i, 'end':i + len(motif) - 1,\n",
    "             'class':motifName + '_weak'}\n",
    "            for i in motifList1]\n",
    "    if len(motifList2) > 0:\n",
    "        tagList += [\n",
    "            {'start':i, 'end':i + len(motif) - 1,\n",
    "             'class':motifName + '_strong'}\n",
    "            for i in motifList2]\n",
    "    return tagList"
   ]
  },
  {
   "cell_type": "code",
   "execution_count": null,
   "metadata": {},
   "outputs": [],
   "source": []
  }
 ],
 "metadata": {
  "kernelspec": {
   "display_name": "Python 3",
   "language": "python",
   "name": "python3"
  },
  "language_info": {
   "codemirror_mode": {
    "name": "ipython",
    "version": 3
   },
   "file_extension": ".py",
   "mimetype": "text/x-python",
   "name": "python",
   "nbconvert_exporter": "python",
   "pygments_lexer": "ipython3",
   "version": "3.6.5"
  },
  "toc": {
   "base_numbering": 1,
   "nav_menu": {},
   "number_sections": true,
   "sideBar": true,
   "skip_h1_title": false,
   "title_cell": "Table of Contents",
   "title_sidebar": "Contents",
   "toc_cell": false,
   "toc_position": {},
   "toc_section_display": true,
   "toc_window_display": false
  }
 },
 "nbformat": 4,
 "nbformat_minor": 2
}
